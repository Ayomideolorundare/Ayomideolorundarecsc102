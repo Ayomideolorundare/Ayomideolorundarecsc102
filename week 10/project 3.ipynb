{
 "cells": [
  {
   "cell_type": "code",
   "execution_count": null,
   "id": "3f08705b",
   "metadata": {},
   "outputs": [],
   "source": []
  },
  {
   "cell_type": "code",
   "execution_count": 4,
   "id": "9d5e9f9e",
   "metadata": {},
   "outputs": [
    {
     "ename": "IndentationError",
     "evalue": "unexpected indent (1614720150.py, line 3)",
     "output_type": "error",
     "traceback": [
      "\u001b[1;36m  Cell \u001b[1;32mIn[4], line 3\u001b[1;36m\u001b[0m\n\u001b[1;33m    self.lager = lager\u001b[0m\n\u001b[1;37m    ^\u001b[0m\n\u001b[1;31mIndentationError\u001b[0m\u001b[1;31m:\u001b[0m unexpected indent\n"
     ]
    }
   ],
   "source": [
    "class Drinks:\n",
    "    def__init__(self,lager,stout,non_alcoholic);\n",
    "        self.lager = lager\n",
    "        self.stout = stout\n",
    "        self.non_alcoholic = non_alcoholic\n",
    "        \n",
    "    def save_to_cav(self):\n",
    "        with open('drinks.cav','w') as file:\n",
    "            file.write(f'Lager:{self.lager}\\n')\n",
    "            file.write(f'Stout:{self.stout}\\n')\n",
    "            file.write(f'Non-Alcoholic:{self.non_alcoholic}\\n')\n",
    "drinks = Drinks('33 Export, Desperados, Star, Heinsion, Goldberg, Guider', 'Legend, Williams, Turbo King', 'Mata Gold , Maltina, Fayrouz, Amstel Malta')\n",
    "drinks.save_to_cav()"
   ]
  },
  {
   "cell_type": "code",
   "execution_count": null,
   "id": "a4b29fc2",
   "metadata": {},
   "outputs": [],
   "source": []
  }
 ],
 "metadata": {
  "kernelspec": {
   "display_name": "Python 3 (ipykernel)",
   "language": "python",
   "name": "python3"
  },
  "language_info": {
   "codemirror_mode": {
    "name": "ipython",
    "version": 3
   },
   "file_extension": ".py",
   "mimetype": "text/x-python",
   "name": "python",
   "nbconvert_exporter": "python",
   "pygments_lexer": "ipython3",
   "version": "3.10.9"
  }
 },
 "nbformat": 4,
 "nbformat_minor": 5
}
