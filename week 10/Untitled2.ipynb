{
 "cells": [
  {
   "cell_type": "code",
   "execution_count": 14,
   "id": "f1cdce8f",
   "metadata": {},
   "outputs": [
    {
     "ename": "NameError",
     "evalue": "name 'stock_quantity' is not defined",
     "output_type": "error",
     "traceback": [
      "\u001b[1;31m---------------------------------------------------------------------------\u001b[0m",
      "\u001b[1;31mNameError\u001b[0m                                 Traceback (most recent call last)",
      "Cell \u001b[1;32mIn[14], line 16\u001b[0m\n\u001b[0;32m     14\u001b[0m             \u001b[38;5;28mself\u001b[39m\u001b[38;5;241m.\u001b[39mstock_quantity \u001b[38;5;241m-\u001b[39m\u001b[38;5;241m=\u001b[39m num_oranges\n\u001b[0;32m     15\u001b[0m             \u001b[38;5;28mprint\u001b[39m(\u001b[38;5;124m\"\u001b[39m\u001b[38;5;124mThank you for your patronage! Your total cost is\u001b[39m\u001b[38;5;124m\"\u001b[39m, total_cost)\n\u001b[1;32m---> 16\u001b[0m obj \u001b[38;5;241m=\u001b[39m Orange(\u001b[43mstock_quantity\u001b[49m,price_per_orange)\n\u001b[0;32m     18\u001b[0m obj\u001b[38;5;241m.\u001b[39mbuy_oranges(stock_quantity,price_per_orange)\n",
      "\u001b[1;31mNameError\u001b[0m: name 'stock_quantity' is not defined"
     ]
    }
   ],
   "source": [
    "class Orange():\n",
    "    def __init__(self,stock_quantity, price_per_orange):\n",
    "        self.stock_quantity = stock_quantity\n",
    "        self.price_per_orange = price_per_orange\n",
    "        \n",
    "    def buy_oranges(self, num_oranges):\n",
    "        stock_quantity = 250\n",
    "        price_per_orange = 50\n",
    "        num_orange = int(input(\"How many oranges do you want?\"))\n",
    "        if num_oranges > self.stock_quantity:\n",
    "            print(\"Sorry, we dont have enough in stock. Please select a quantity less than\", self.stock_quantity)\n",
    "        else:\n",
    "            total_cost = num_oranges * self.price_per_orange\n",
    "            self.stock_quantity -= num_oranges\n",
    "            print(\"Thank you for your patronage! Your total cost is\", total_cost)\n",
    "obj = Orange(stock_quantity,price_per_orange)\n",
    "\n",
    "obj.buy_oranges(stock_quantity,price_per_orange)"
   ]
  },
  {
   "cell_type": "code",
   "execution_count": null,
   "id": "d64bf701",
   "metadata": {},
   "outputs": [],
   "source": []
  },
  {
   "cell_type": "code",
   "execution_count": null,
   "id": "fd016593",
   "metadata": {},
   "outputs": [],
   "source": []
  }
 ],
 "metadata": {
  "kernelspec": {
   "display_name": "Python 3 (ipykernel)",
   "language": "python",
   "name": "python3"
  },
  "language_info": {
   "codemirror_mode": {
    "name": "ipython",
    "version": 3
   },
   "file_extension": ".py",
   "mimetype": "text/x-python",
   "name": "python",
   "nbconvert_exporter": "python",
   "pygments_lexer": "ipython3",
   "version": "3.10.9"
  }
 },
 "nbformat": 4,
 "nbformat_minor": 5
}
