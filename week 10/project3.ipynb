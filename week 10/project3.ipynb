{
 "cells": [
  {
   "cell_type": "code",
   "execution_count": null,
   "id": "9e26dae8",
   "metadata": {},
   "outputs": [],
   "source": []
  },
  {
   "cell_type": "code",
   "execution_count": 9,
   "id": "07d7e69c",
   "metadata": {},
   "outputs": [
    {
     "name": "stdout",
     "output_type": "stream",
     "text": [
      "written\n"
     ]
    }
   ],
   "source": [
    "class Drinks:\n",
    "    def __init__(self,lager,stout,non_alcoholic):\n",
    "        self.lager = lager\n",
    "        self.stout = stout\n",
    "        self.non_alcoholic = non_alcoholic\n",
    "        \n",
    "    def save_to_cav(self):\n",
    "        with open('drinks.cav','w') as file:\n",
    "            file.write(f'Lager:{self.lager}\\n')\n",
    "            file.write(f'Stout:{self.stout}\\n')\n",
    "            file.write(f'Non-Alcoholic:{self.non_alcoholic}\\n')\n",
    "            print(\"written\")\n",
    "drinks = Drinks('33 Export, Desperados, Star, Heinsion, Goldberg, Guider', 'Legend, Williams, Turbo King', 'Mata Gold , Maltina, Fayrouz, Amstel Malta')\n",
    "drinks.save_to_cav()"
   ]
  },
  {
   "cell_type": "code",
   "execution_count": null,
   "id": "f2671bb8",
   "metadata": {},
   "outputs": [],
   "source": []
  }
 ],
 "metadata": {
  "kernelspec": {
   "display_name": "Python 3 (ipykernel)",
   "language": "python",
   "name": "python3"
  },
  "language_info": {
   "codemirror_mode": {
    "name": "ipython",
    "version": 3
   },
   "file_extension": ".py",
   "mimetype": "text/x-python",
   "name": "python",
   "nbconvert_exporter": "python",
   "pygments_lexer": "ipython3",
   "version": "3.10.9"
  }
 },
 "nbformat": 4,
 "nbformat_minor": 5
}
