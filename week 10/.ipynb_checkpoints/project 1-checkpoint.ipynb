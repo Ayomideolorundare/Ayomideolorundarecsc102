{
 "cells": [
  {
   "cell_type": "code",
   "execution_count": 1,
   "id": "a3c31118",
   "metadata": {},
   "outputs": [],
   "source": [
    "class shop():\n",
    "    def quantity(self):\n",
    "        oranges_num = int(input(\"how many oranges would you like to buy?\"))\n",
    "        if oranges_num > stock:\n",
    "            obj.too.much()\n",
    "        else:\n",
    "            obj.successful\n",
    "            \n",
    "    def too_much(self):\n",
    "        print(\"The required amount currently isn't in stock\")\n",
    "        print(\"Please input a lower amount\")\n",
    "        obj.quantity()\n",
    "    \n",
    "    def successful(self):\n",
    "        print(\"Your oder is successful\")\n",
    "        total = price * num_orange\n",
    "        print(\"Your total cost is \"total)\n",
    " \n",
    "\n",
    "\n",
    "print(\"Welcome!\\nWe hope you are well\")\n",
    "price\n",
    "        \n",
    "            \n",
    "            \n",
    "            \n"
   ]
  },
  {
   "cell_type": "code",
   "execution_count": null,
   "id": "6014b74e",
   "metadata": {},
   "outputs": [],
   "source": []
  },
  {
   "cell_type": "code",
   "execution_count": null,
   "id": "6ac3d5b1",
   "metadata": {},
   "outputs": [],
   "source": []
  },
  {
   "cell_type": "code",
   "execution_count": null,
   "id": "96d1ce34",
   "metadata": {},
   "outputs": [],
   "source": []
  }
 ],
 "metadata": {
  "kernelspec": {
   "display_name": "Python 3 (ipykernel)",
   "language": "python",
   "name": "python3"
  },
  "language_info": {
   "codemirror_mode": {
    "name": "ipython",
    "version": 3
   },
   "file_extension": ".py",
   "mimetype": "text/x-python",
   "name": "python",
   "nbconvert_exporter": "python",
   "pygments_lexer": "ipython3",
   "version": "3.10.9"
  }
 },
 "nbformat": 4,
 "nbformat_minor": 5
}
