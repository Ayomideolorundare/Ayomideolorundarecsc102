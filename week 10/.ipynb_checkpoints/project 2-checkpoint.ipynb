{
 "cells": [
  {
   "cell_type": "code",
   "execution_count": null,
   "id": "ec8d4bd7",
   "metadata": {},
   "outputs": [],
   "source": [
    "class Geometrty:\n",
    "    def area_trapezium(self,height,base1,base2):\n",
    "        return height/2 *(base1 + base2)\n",
    "    \n",
    "    def area_rhombus(self,diagonal1,diagonal2):\n",
    "        return 0.5 * diagonal1 * diagonal2\n",
    "    \n",
    "    def area_parallelogram(self,base,altitude:)\n",
    "        return base * altitude\n",
    "    \n",
    "    def area_cube(self,side_lenght):\n",
    "        return 6 * (side_lenght **2)*height\n",
    "    \n",
    "def main():\n",
    "    geometry = Geometry()\n",
    "    print(\"select an equation:\")\n",
    "    print(\"1. Area of Trapezium\")\n",
    "    print(\"2. Area of Rhombus\")\n",
    "    print(\"3. Area of Prallelogram\")\n",
    "    print(\"4. Area of cube\")\n",
    "    print(\"5. volume of Cylinder\")\n",
    "    \n",
    "    choice = int(input())\n",
    "    \n",
    "    if choice == 1:\n",
    "        height = float(input(\"Enter height:\"))\n",
    "        base1 = float(input(\"Enter base1: \"))\n",
    "        base2 = float(input(\"Enter base2: \"))\n",
    "        print(\"Area of Trapizium:\",geometry.area_trapezium(height,base1,base2))\n",
    "    elif choice == 2:\n",
    "        diagonal1 = float(input(\"Enter diagonal1: \"))\n",
    "        diagonal2 = float(input(\"Enter diagonal2: \"))\n",
    "        print(\"Area of Rhombus:\",geometry.area_rhombus(diagonal1,diagonal2))\n",
    "    elif choice == 3:\n",
    "        base = float(input(\"Enter base: \"))\n",
    "        altitude = float(input())"
   ]
  }
 ],
 "metadata": {
  "kernelspec": {
   "display_name": "Python 3 (ipykernel)",
   "language": "python",
   "name": "python3"
  },
  "language_info": {
   "codemirror_mode": {
    "name": "ipython",
    "version": 3
   },
   "file_extension": ".py",
   "mimetype": "text/x-python",
   "name": "python",
   "nbconvert_exporter": "python",
   "pygments_lexer": "ipython3",
   "version": "3.10.9"
  }
 },
 "nbformat": 4,
 "nbformat_minor": 5
}
