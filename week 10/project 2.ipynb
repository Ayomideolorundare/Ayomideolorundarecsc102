{
 "cells": [
  {
   "cell_type": "code",
   "execution_count": 9,
   "id": "8984b15d",
   "metadata": {},
   "outputs": [
    {
     "name": "stdout",
     "output_type": "stream",
     "text": [
      "2\n",
      "Enter diagonal1: 2\n",
      "Enter diagonal2: 3\n"
     ]
    },
    {
     "ename": "NameError",
     "evalue": "name 'geometry' is not defined",
     "output_type": "error",
     "traceback": [
      "\u001b[1;31m---------------------------------------------------------------------------\u001b[0m",
      "\u001b[1;31mNameError\u001b[0m                                 Traceback (most recent call last)",
      "Cell \u001b[1;32mIn[9], line 1\u001b[0m\n\u001b[1;32m----> 1\u001b[0m \u001b[38;5;28;01mclass\u001b[39;00m \u001b[38;5;21;01mGeometrty\u001b[39;00m:\n\u001b[0;32m      2\u001b[0m     \u001b[38;5;28;01mdef\u001b[39;00m \u001b[38;5;21marea_trapezium\u001b[39m(\u001b[38;5;28mself\u001b[39m,height,base1,base2):\n\u001b[0;32m      3\u001b[0m         \u001b[38;5;28;01mreturn\u001b[39;00m height\u001b[38;5;241m/\u001b[39m\u001b[38;5;241m2\u001b[39m \u001b[38;5;241m*\u001b[39m(base1 \u001b[38;5;241m+\u001b[39m base2)\n",
      "Cell \u001b[1;32mIn[9], line 37\u001b[0m, in \u001b[0;36mGeometrty\u001b[1;34m()\u001b[0m\n\u001b[0;32m     35\u001b[0m     diagonal1 \u001b[38;5;241m=\u001b[39m \u001b[38;5;28mfloat\u001b[39m(\u001b[38;5;28minput\u001b[39m(\u001b[38;5;124m\"\u001b[39m\u001b[38;5;124mEnter diagonal1: \u001b[39m\u001b[38;5;124m\"\u001b[39m))\n\u001b[0;32m     36\u001b[0m     diagonal2 \u001b[38;5;241m=\u001b[39m \u001b[38;5;28mfloat\u001b[39m(\u001b[38;5;28minput\u001b[39m(\u001b[38;5;124m\"\u001b[39m\u001b[38;5;124mEnter diagonal2: \u001b[39m\u001b[38;5;124m\"\u001b[39m))\n\u001b[1;32m---> 37\u001b[0m     \u001b[38;5;28mprint\u001b[39m(\u001b[38;5;124m\"\u001b[39m\u001b[38;5;124mArea of Rhombus:\u001b[39m\u001b[38;5;124m\"\u001b[39m,\u001b[43mgeometry\u001b[49m\u001b[38;5;241m.\u001b[39marea_rhombus(diagonal1,diagonal2))\n\u001b[0;32m     38\u001b[0m \u001b[38;5;28;01melif\u001b[39;00m choice \u001b[38;5;241m==\u001b[39m \u001b[38;5;241m3\u001b[39m:\n\u001b[0;32m     39\u001b[0m     base \u001b[38;5;241m=\u001b[39m \u001b[38;5;28mfloat\u001b[39m(\u001b[38;5;28minput\u001b[39m(\u001b[38;5;124m\"\u001b[39m\u001b[38;5;124mEnter base: \u001b[39m\u001b[38;5;124m\"\u001b[39m))\n",
      "\u001b[1;31mNameError\u001b[0m: name 'geometry' is not defined"
     ]
    }
   ],
   "source": [
    "class Geometrty:\n",
    "    def area_trapezium(self,height,base1,base2):\n",
    "        return height/2 *(base1 + base2)\n",
    "    \n",
    "    def area_rhombus(self,diagonal1,diagonal2):\n",
    "        return 0.5 * diagonal1 * diagonal2\n",
    "    \n",
    "    def area_parallelogram(self,base,altitude):\n",
    "        return base * altitude\n",
    "    \n",
    "    def area_cube(self,side_lenght):\n",
    "        return 6 * (side_lenght **2)\n",
    "    \n",
    "    def volume_cylinder(self,radius,height):\n",
    "        return 3.14 * (radius ** 2) * height\n",
    "        \n",
    "    \n",
    "    def main():\n",
    "        geometry = Geometry()\n",
    "        print(\"select an equation:\")\n",
    "        print(\"1. Area of Trapezium\")\n",
    "        print(\"2. Area of Rhombus\")\n",
    "        print(\"3. Area of Prallelogram\")\n",
    "        print(\"4. Area of cube\")\n",
    "        print(\"5. volume of Cylinder\")\n",
    "    \n",
    "    choice = int(input())\n",
    "    \n",
    "    if choice == 1:\n",
    "        height = float(input(\"Enter height:\"))\n",
    "        base1 = float(input(\"Enter base1: \"))\n",
    "        base2 = float(input(\"Enter base2: \"))\n",
    "        print(\"Area of Trapizium:\",geometry.area_trapezium(height,base1,base2))\n",
    "    elif choice == 2:\n",
    "        diagonal1 = float(input(\"Enter diagonal1: \"))\n",
    "        diagonal2 = float(input(\"Enter diagonal2: \"))\n",
    "        print(\"Area of Rhombus:\",geometry.area_rhombus(diagonal1,diagonal2))\n",
    "    elif choice == 3:\n",
    "        base = float(input(\"Enter base: \"))\n",
    "        altitude = float(input(\"Enter altitude: \"))\n",
    "        print(\"Area of parallelogram \",geometry.area_parallelogram(base,altitude))\n",
    "    elif choice == 4:\n",
    "        side_lenght = float(input(\"Enter side lenght:\"))\n",
    "              \n",
    "        print(\"Area of cube:\",geometry.area_cube(side_lenght))\n",
    "    elif choice == 5: \n",
    "        radius = float(input(\"Enter radius: \"))\n",
    "        height = float(input(\"Enter height: \"))\n",
    "        print(\"Volume of cylinder:\",geometry.volume_cylinder(radius,height))\n",
    "    else:\n",
    "        print(\"Invalid choice.\")\n",
    "              \n",
    "obj = Geometry()\n",
    "obj.Geometry\n",
    "\n",
    "        \n",
    "        "
   ]
  },
  {
   "cell_type": "code",
   "execution_count": null,
   "id": "a6339dc8",
   "metadata": {},
   "outputs": [],
   "source": []
  }
 ],
 "metadata": {
  "kernelspec": {
   "display_name": "Python 3 (ipykernel)",
   "language": "python",
   "name": "python3"
  },
  "language_info": {
   "codemirror_mode": {
    "name": "ipython",
    "version": 3
   },
   "file_extension": ".py",
   "mimetype": "text/x-python",
   "name": "python",
   "nbconvert_exporter": "python",
   "pygments_lexer": "ipython3",
   "version": "3.10.9"
  }
 },
 "nbformat": 4,
 "nbformat_minor": 5
}
